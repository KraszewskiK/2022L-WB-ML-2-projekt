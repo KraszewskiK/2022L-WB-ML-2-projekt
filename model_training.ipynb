{
 "cells": [
  {
   "cell_type": "code",
   "execution_count": 100,
   "metadata": {},
   "outputs": [],
   "source": [
    "import pandas as pd\n",
    "import numpy as np\n",
    "import matplotlib.pyplot as plt\n",
    "import seaborn as sns\n",
    "\n",
    "from sklearn.model_selection import train_test_split\n",
    "from sklearn.impute import SimpleImputer\n",
    "from sklearn.preprocessing import OneHotEncoder, StandardScaler\n",
    "from sklearn.compose import ColumnTransformer\n",
    "from sklearn.pipeline import Pipeline\n",
    "from sklearn.ensemble import RandomForestClassifier\n",
    "from sklearn.metrics import recall_score, accuracy_score, f1_score, roc_curve, confusion_matrix\n",
    "\n",
    "plt.rcParams['figure.figsize'] = (8,6)\n",
    "plt.rcParams['font.size'] = 16\n",
    "sns.set_context('paper', font_scale=1.4)\n",
    "pd.set_option('display.max_columns', None)\n",
    "\n",
    "sns.set()\n",
    "%matplotlib inline"
   ]
  },
  {
   "cell_type": "code",
   "execution_count": 101,
   "metadata": {},
   "outputs": [],
   "source": [
    "test_df = pd.read_csv('data/UNSW_NB15_testing-set.csv', index_col=0)\n",
    "train_df = pd.read_csv('data/UNSW_NB15_training-set.csv', index_col=0)\n",
    "df_features = pd.read_csv('data/UNSW_NB15_features.csv', encoding='cp1252', index_col=0)\n",
    "\n",
    "# ujednolicenie nazw pomiędzy ramkami danych\n",
    "df_features.Name = list(map(lambda x : x.lower(), df_features.Name))\n",
    "df_features.loc[:, 'Type '] = list(map(lambda x : x.lower(), df_features.loc[:, 'Type ']))\n",
    "df_features.loc[df_features.Name == 'ct_src_ ltm', 'Name'] = 'ct_src_ltm'\n",
    "df_features.loc[df_features.Name == 'res_bdy_len', 'Name'] = 'response_body_len'\n",
    "df_features.loc[df_features.Name == 'smeansz', 'Name'] = 'smean'\n",
    "df_features.loc[df_features.Name == 'dmeansz', 'Name'] = 'dmean'\n",
    "df_features.loc[df_features.Name == 'sintpkt', 'Name'] = 'sinpkt'\n",
    "df_features.loc[df_features.Name == 'dintpkt', 'Name'] = 'dinpkt'"
   ]
  },
  {
   "cell_type": "code",
   "execution_count": 103,
   "metadata": {},
   "outputs": [],
   "source": [
    "val_df, test_df = train_test_split(test_df, random_state=710, test_size=0.3)"
   ]
  },
  {
   "cell_type": "code",
   "execution_count": 104,
   "metadata": {},
   "outputs": [],
   "source": [
    "X_train = train_df.drop(columns=['label', 'attack_cat'])\n",
    "y_train = train_df['label']\n",
    "\n",
    "X_val = val_df.drop(columns=['label', 'attack_cat'])\n",
    "y_val = val_df['label']\n",
    "\n",
    "X_test = test_df.drop(columns=['label', 'attack_cat'])\n",
    "y_test = test_df['label']"
   ]
  },
  {
   "cell_type": "code",
   "execution_count": 105,
   "metadata": {},
   "outputs": [],
   "source": [
    "numeric_columns = X_train.select_dtypes('number').columns\n",
    "categorical_columns = X_train.select_dtypes('object').columns"
   ]
  },
  {
   "cell_type": "code",
   "execution_count": 106,
   "metadata": {},
   "outputs": [],
   "source": [
    "def statistics_classification(y, y_pred, y_pred_proba):\n",
    "    \n",
    "    # plot roc curve\n",
    "    fpr, tpr, _ = roc_curve(y,  y_pred_proba)\n",
    "    plt.plot(fpr,tpr)\n",
    "    plt.title('ROC curve')\n",
    "    plt.ylabel('True Positive Rate')\n",
    "    plt.xlabel('False Positive Rate')\n",
    "    plt.show()\n",
    "\n",
    "    # plot confusion matrix\n",
    "    cm = confusion_matrix(y, y_pred)\n",
    "    sns.heatmap(cm, annot=True, fmt=\".0f\")\n",
    "    plt.title('Confusion matrix')\n",
    "    plt.show()\n",
    "\n",
    "    # display metrics\n",
    "    accuracy = accuracy_score(y, y_pred)\n",
    "    recall = recall_score(y, y_pred)\n",
    "    f1 = f1_score(y, y_pred)\n",
    "\n",
    "    print(f'{accuracy=}')\n",
    "    print(f'{recall=}')\n",
    "    print(f'{f1=}')"
   ]
  },
  {
   "cell_type": "code",
   "execution_count": 107,
   "metadata": {},
   "outputs": [],
   "source": [
    "# ta klasa nie jest używana, ale w paru przypadkach może być wygodniejsza do użycia niż \n",
    "# ColumnSelectorTransformer, więc póki co ją zostawiam\n",
    "class ColumnDropperTransformer():\n",
    "    def __init__(self, columns):\n",
    "        self.columns = columns\n",
    "\n",
    "    def transform(self, X, y=None):\n",
    "        return X.drop(columns=self.columns)\n",
    "\n",
    "    def fit(self, X, y=None):\n",
    "        return self\n",
    "\n",
    "class ColumnSelectorTransformer():\n",
    "    def __init__(self, columns):\n",
    "        self.columns = columns\n",
    "\n",
    "    def transform(self, X, y=None):\n",
    "        return X[self.columns]\n",
    "\n",
    "    def fit(self, X, y=None):\n",
    "        return self"
   ]
  },
  {
   "cell_type": "code",
   "execution_count": 108,
   "metadata": {},
   "outputs": [],
   "source": [
    "numeric_transformer = Pipeline(\n",
    "                        steps=[\n",
    "                            # nie ma u nas braków danych, ale można zastanowić się jak byśmy do\n",
    "                            # nich podeszli, gdyby jednak jakieś były\n",
    "                            # ('imputer', SimpleImputer(strategy=\"constant\", fill_value=0)),\n",
    "                            (\"scaler\", StandardScaler())\n",
    "                        ]\n",
    "                      )\n",
    "\n",
    "# w kategorycznych też można pomyśleć co jeśli byłby null\n",
    "categorical_transformer = OneHotEncoder(drop='first')\n",
    "\n",
    "def create_column_transformer(columns_to_use):\n",
    "    numeric_columns_to_use = np.intersect1d(columns_to_use, numeric_columns)\n",
    "    categorical_columns_to_use = np.intersect1d(columns_to_use, categorical_columns)\n",
    "    \n",
    "    return ColumnTransformer(\n",
    "        transformers=[\n",
    "            (\"num\", numeric_transformer, numeric_columns_to_use),\n",
    "            (\"cat\", categorical_transformer, categorical_columns_to_use),\n",
    "        ]\n",
    "    )"
   ]
  },
  {
   "cell_type": "code",
   "execution_count": 109,
   "metadata": {},
   "outputs": [],
   "source": [
    "columns_to_use = ['ct_dst_sport_ltm', 'sttl', 'dload', 'ct_state_ttl', 'dmean']"
   ]
  },
  {
   "cell_type": "code",
   "execution_count": 111,
   "metadata": {},
   "outputs": [],
   "source": [
    "preprocessor = Pipeline(\n",
    "    steps=[\n",
    "        (\"column_selector\", ColumnSelectorTransformer(columns=columns_to_use)),\n",
    "        (\"column_transformer\", create_column_transformer(columns_to_use))\n",
    "    ]\n",
    ")\n",
    "\n",
    "rf_clf = Pipeline(\n",
    "    steps=[\n",
    "        (\"preprocessor\", preprocessor),\n",
    "        (\"classifier\", RandomForestClassifier(random_state=710))\n",
    "    ]\n",
    ")"
   ]
  },
  {
   "cell_type": "code",
   "execution_count": 112,
   "metadata": {},
   "outputs": [
    {
     "data": {
      "image/png": "[encoded data removed]",
      "text/plain": [
       "<Figure size 432x288 with 1 Axes>"
      ]
     },
     "metadata": {
      "needs_background": "light"
     },
     "output_type": "display_data"
    },
    {
     "data": {
      "image/png": "[encoded data removed]",
      "text/plain": [
       "<Figure size 432x288 with 2 Axes>"
      ]
     },
     "metadata": {
      "needs_background": "light"
     },
     "output_type": "display_data"
    },
    {
     "name": "stdout",
     "output_type": "stream",
     "text": [
      "accuracy=0.8829457869608435\n",
      "recall=0.8784941469668468\n",
      "f1=0.910767854813766\n"
     ]
    }
   ],
   "source": [
    "rf_clf.fit(X_train, y_train)\n",
    "\n",
    "y_pred = rf_clf.predict(X_val)\n",
    "y_pred_proba = rf_clf.predict_proba(X_val)[::, 1]\n",
    "\n",
    "statistics_classification(y_val, y_pred, y_pred_proba)"
   ]
  },
  {
   "cell_type": "code",
   "execution_count": null,
   "metadata": {},
   "outputs": [],
   "source": []
  }
 ],
 "metadata": {
  "interpreter": {
   "hash": "59799a58817d6880ee9f3fb693826ba7dd972c2535e602fec2c8c4252cbc627f"
  },
  "kernelspec": {
   "display_name": "Python 3.9.7 ('wb')",
   "language": "python",
   "name": "python3"
  },
  "language_info": {
   "codemirror_mode": {
    "name": "ipython",
    "version": 3
   },
   "file_extension": ".py",
   "mimetype": "text/x-python",
   "name": "python",
   "nbconvert_exporter": "python",
   "pygments_lexer": "ipython3",
   "version": "3.9.7"
  },
  "orig_nbformat": 4
 },
 "nbformat": 4,
 "nbformat_minor": 2
}
