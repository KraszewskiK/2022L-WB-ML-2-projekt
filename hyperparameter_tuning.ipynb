{
 "cells": [
  {
   "cell_type": "code",
   "execution_count": 28,
   "metadata": {},
   "outputs": [],
   "source": [
    "import pandas as pd\n",
    "import numpy as np\n",
    "import matplotlib.pyplot as plt\n",
    "import seaborn as sns\n",
    "\n",
    "from sklearn.model_selection import train_test_split, RandomizedSearchCV\n",
    "from sklearn.impute import SimpleImputer\n",
    "from sklearn.preprocessing import OneHotEncoder, StandardScaler\n",
    "from sklearn.compose import ColumnTransformer\n",
    "from sklearn.pipeline import Pipeline\n",
    "from sklearn.ensemble import RandomForestClassifier, AdaBoostClassifier\n",
    "from sklearn.linear_model import LogisticRegression\n",
    "from xgboost import XGBClassifier\n",
    "from sklearn.metrics import recall_score, accuracy_score, f1_score, roc_curve, confusion_matrix, matthews_corrcoef, make_scorer\n",
    "from sklearn.feature_selection import mutual_info_classif\n",
    "from sklearn.feature_selection import SelectKBest\n",
    "\n",
    "plt.rcParams['figure.figsize'] = (8,6)\n",
    "plt.rcParams['font.size'] = 16\n",
    "sns.set_context('paper', font_scale=1.4)\n",
    "pd.set_option('display.max_columns', None)\n",
    "\n",
    "sns.set()\n",
    "%matplotlib inline"
   ]
  },
  {
   "cell_type": "markdown",
   "metadata": {},
   "source": [
    "#### 0. Przygotowanie Danych"
   ]
  },
  {
   "cell_type": "code",
   "execution_count": 2,
   "metadata": {},
   "outputs": [],
   "source": [
    "test_df = pd.read_csv('data/UNSW_NB15_testing-set.csv', index_col=0)\n",
    "train_df = pd.read_csv('data/UNSW_NB15_training-set.csv', index_col=0)"
   ]
  },
  {
   "cell_type": "markdown",
   "metadata": {},
   "source": [
    "Podział danych na treningowe, testowe i walidacyjne"
   ]
  },
  {
   "cell_type": "code",
   "execution_count": 4,
   "metadata": {},
   "outputs": [],
   "source": [
    "val_df, test_df = train_test_split(test_df, random_state=710, test_size=0.3)"
   ]
  },
  {
   "cell_type": "code",
   "execution_count": 5,
   "metadata": {},
   "outputs": [],
   "source": [
    "X_train = train_df.drop(columns=['label', 'attack_cat'])\n",
    "y_train = train_df['label']\n",
    "\n",
    "X_val = val_df.drop(columns=['label', 'attack_cat'])\n",
    "y_val = val_df['label']\n",
    "\n",
    "X_test = test_df.drop(columns=['label', 'attack_cat'])\n",
    "y_test = test_df['label']"
   ]
  },
  {
   "cell_type": "code",
   "execution_count": 6,
   "metadata": {},
   "outputs": [],
   "source": [
    "numeric_columns = X_train.select_dtypes('number').columns\n",
    "categorical_columns = X_train.select_dtypes('object').columns"
   ]
  },
  {
   "cell_type": "markdown",
   "metadata": {},
   "source": [
    "#### 1. Feature Engineering"
   ]
  },
  {
   "cell_type": "code",
   "execution_count": null,
   "metadata": {},
   "outputs": [],
   "source": [
    "mi = mutual_info_classif(X_train[numeric_columns], y_train)\n",
    "mi = pd.Series(data = mi, index = numeric_columns)"
   ]
  },
  {
   "cell_type": "markdown",
   "metadata": {},
   "source": [
    "Poniżej mamy funkcję do usuwania zmiennych silnie skorelowanych w lepszy niż losowy sposób.\n",
    "\n",
    "To znaczy staramy się wpierw usuwać te najmniej znaczące."
   ]
  },
  {
   "cell_type": "code",
   "execution_count": 8,
   "metadata": {},
   "outputs": [],
   "source": [
    "def remove_correlated_features(X, y = None, threshold = 0.65, features=numeric_columns, mi = None, corr_df = None):\n",
    "    # at least one of 'y' and 'mi' must be not None\n",
    "    assert(y is not None or mi is not None)\n",
    "    if mi is None:\n",
    "        mi = pd.Series(data = mutual_info_classif(X[features], y), index=features)\n",
    "    if corr_df is None:\n",
    "        corr_df = X.corr()\n",
    "\n",
    "    # convert to an easier to use data frame\n",
    "    corr_df = corr_df.melt(ignore_index=False).\\\n",
    "        reset_index(drop=False).\\\n",
    "        rename(columns={'index':'Var 1', 'variable': 'Var 2', 'value': 'Corr'})\n",
    "\n",
    "    # we look for all pairs of (different) features that are highly correlated\n",
    "    corr_df = corr_df[\n",
    "                (np.abs(corr_df['Corr']) > threshold) & \n",
    "                (corr_df['Var 1'] != corr_df['Var 2'])\n",
    "        ].\\\n",
    "        sort_values(by='Corr', ascending=False)\n",
    "\n",
    "    removed_features = set()\n",
    "\n",
    "    # ALGORYTM 2\n",
    "    # usuwamy atrybuty od najmniej ważnych tak długo jak są pary silnie skorelowane\n",
    "\n",
    "    mi = mi.sort_values()\n",
    "    correlated_features = set(corr_df['Var 1']).union(set(corr_df['Var 2']))\n",
    "\n",
    "    i = 0 \n",
    "    while corr_df.shape[0] > 0 and i < mi.shape[0]:\n",
    "        feature = mi.index[i]\n",
    "        i += 1\n",
    "        if feature not in correlated_features:\n",
    "            continue\n",
    "        correlated_features.remove(feature)\n",
    "        removed_features.add(feature)\n",
    "        corr_df = corr_df[(corr_df['Var 1'] != feature) & (corr_df['Var 2'] != feature)]\n",
    "\n",
    "    return X.drop(list(removed_features), axis=1), list(removed_features)"
   ]
  },
  {
   "cell_type": "code",
   "execution_count": 12,
   "metadata": {},
   "outputs": [],
   "source": [
    "X_train_reduced = remove_correlated_features(X_train, mi=mi)[0]\n",
    "uncorrelated_columns = X_train_reduced.columns # to się przyda na potem"
   ]
  },
  {
   "cell_type": "markdown",
   "metadata": {},
   "source": [
    "#### 2. Przygotowanie Pipelineów\n",
    "\n",
    "Poniżej definiujemy kilka klas, które używamy przy budowaniu naszych Pipelineów."
   ]
  },
  {
   "cell_type": "code",
   "execution_count": 13,
   "metadata": {},
   "outputs": [],
   "source": [
    "class ColumnSelectorTransformer():\n",
    "    def __init__(self, columns):\n",
    "        self.columns = columns\n",
    "\n",
    "    def transform(self, X, y=None):\n",
    "        return X[self.columns]\n",
    "\n",
    "    def fit(self, X, y=None):\n",
    "        return self"
   ]
  },
  {
   "cell_type": "code",
   "execution_count": 14,
   "metadata": {},
   "outputs": [],
   "source": [
    "numeric_transformer = Pipeline(\n",
    "                        steps=[\n",
    "                            (\"scaler\", StandardScaler())\n",
    "                        ]\n",
    "                      )\n",
    "\n",
    "categorical_transformer = OneHotEncoder(drop='first')\n",
    "\n",
    "def create_column_transformer(columns_to_use):\n",
    "    numeric_columns_to_use = np.intersect1d(columns_to_use, numeric_columns)\n",
    "    categorical_columns_to_use = np.intersect1d(columns_to_use, categorical_columns)\n",
    "    \n",
    "    return ColumnTransformer(\n",
    "        transformers=[\n",
    "            (\"num\", numeric_transformer, numeric_columns_to_use),\n",
    "            (\"cat\", categorical_transformer, categorical_columns_to_use),\n",
    "        ]\n",
    "    )"
   ]
  },
  {
   "cell_type": "code",
   "execution_count": 15,
   "metadata": {},
   "outputs": [],
   "source": [
    "# columns_to_use = ['ct_dst_sport_ltm', 'sttl', 'dload', 'ct_state_ttl', 'dmean']\n",
    "columns_to_use = np.intersect1d(uncorrelated_columns, mi.sort_values(ascending=False).index[:6])"
   ]
  },
  {
   "cell_type": "markdown",
   "metadata": {},
   "source": [
    "#### 2.1 Przygotowanie Modelu XGBoost"
   ]
  },
  {
   "cell_type": "code",
   "execution_count": 62,
   "metadata": {},
   "outputs": [],
   "source": [
    "preprocessor = Pipeline(\n",
    "    steps=[\n",
    "        (\"column_selector\", ColumnSelectorTransformer(columns=columns_to_use)),\n",
    "        (\"column_transformer\", create_column_transformer(columns_to_use)),\n",
    "    ]\n",
    ")\n",
    "\n",
    "xgb_clf = Pipeline(\n",
    "    steps=[\n",
    "        (\"preprocessor\", preprocessor),\n",
    "        (\"classifier\", XGBClassifier(random_state=710, eval_metric='logloss', use_label_encoder=False))\n",
    "    ]\n",
    ")"
   ]
  },
  {
   "cell_type": "markdown",
   "metadata": {},
   "source": [
    "#### 3. Strojenie hiperparametrów"
   ]
  },
  {
   "cell_type": "code",
   "execution_count": 63,
   "metadata": {},
   "outputs": [],
   "source": [
    "xgb_parameters = {'classifier__n_estimators' : [x for x in range(1,5000,250)],\n",
    "                  'classifier__learning_rate' : [2**x for x in range(-10,0,1)],\n",
    "                  'classifier__subsample' : [x/10 for x in range(1,11)],\n",
    "                  'classifier__max_depth' : [x for x in range(1,16)],\n",
    "                  'classifier__min_child_weight' : [2**x for x in range(0,8)],\n",
    "                  'classifier__reg_lambda' : [2**x for x in range(-10,11)],\n",
    "                  'classifier__reg_alpha' : [2**x for x in range(-10,11)]}"
   ]
  },
  {
   "cell_type": "code",
   "execution_count": 64,
   "metadata": {},
   "outputs": [],
   "source": [
    "xgb_rs_clf = RandomizedSearchCV(xgb_clf,\n",
    "                         param_distributions=xgb_parameters,\n",
    "                         cv=3,\n",
    "                         n_jobs=-1,\n",
    "                         n_iter=500,\n",
    "                         scoring = 'roc_auc',\n",
    "                         random_state=710,\n",
    "                         verbose = 1\n",
    "                        )"
   ]
  },
  {
   "cell_type": "code",
   "execution_count": 65,
   "metadata": {
    "scrolled": false
   },
   "outputs": [
    {
     "name": "stdout",
     "output_type": "stream",
     "text": [
      "Fitting 3 folds for each of 500 candidates, totalling 1500 fits\n"
     ]
    },
    {
     "name": "stderr",
     "output_type": "stream",
     "text": [
      "[Parallel(n_jobs=-1)]: Using backend LokyBackend with 6 concurrent workers.\n",
      "[Parallel(n_jobs=-1)]: Done  38 tasks      | elapsed:  8.3min\n",
      "[Parallel(n_jobs=-1)]: Done 188 tasks      | elapsed: 54.0min\n",
      "[Parallel(n_jobs=-1)]: Done 438 tasks      | elapsed: 120.9min\n",
      "[Parallel(n_jobs=-1)]: Done 788 tasks      | elapsed: 202.9min\n",
      "[Parallel(n_jobs=-1)]: Done 1238 tasks      | elapsed: 319.8min\n",
      "[Parallel(n_jobs=-1)]: Done 1500 out of 1500 | elapsed: 385.5min finished\n"
     ]
    },
    {
     "data": {
      "text/plain": [
       "RandomizedSearchCV(cv=3,\n",
       "                   estimator=Pipeline(steps=[('preprocessor',\n",
       "                                              Pipeline(steps=[('column_selector',\n",
       "                                                               <__main__.ColumnSelectorTransformer object at 0x000002296D826DC0>),\n",
       "                                                              ('column_transformer',\n",
       "                                                               ColumnTransformer(transformers=[('num',\n",
       "                                                                                                Pipeline(steps=[('scaler',\n",
       "                                                                                                                 StandardScaler())]),\n",
       "                                                                                                array(['ct_state_ttl', 'dbytes', 'rate', 'sbytes', 'sload', 'smean'],\n",
       "      dtype=object))...\n",
       "                                                                  0.00390625,\n",
       "                                                                  0.0078125,\n",
       "                                                                  0.015625,\n",
       "                                                                  0.03125,\n",
       "                                                                  0.0625, 0.125,\n",
       "                                                                  0.25, 0.5, 1,\n",
       "                                                                  2, 4, 8, 16,\n",
       "                                                                  32, 64, 128,\n",
       "                                                                  256, 512,\n",
       "                                                                  1024],\n",
       "                                        'classifier__reg_lambda': [0.0009765625,\n",
       "                                                                   0.001953125,\n",
       "                                                                   0.00390625,\n",
       "                                                                   0.0078125,\n",
       "                                                                   0.015625,\n",
       "                                                                   0.03125,\n",
       "                                                                   0.0625,\n",
       "                                                                   0.125, 0.25,\n",
       "                                                                   0.5, 1, 2, 4,\n",
       "                                                                   8, 16, 32,\n",
       "                                                                   64, 128, 256,\n",
       "                                                                   512, 1024],\n",
       "                                        'classifier__subsample': [0.1, 0.2, 0.3,\n",
       "                                                                  0.4, 0.5, 0.6,\n",
       "                                                                  0.7, 0.8, 0.9,\n",
       "                                                                  1.0]},\n",
       "                   random_state=710, scoring='roc_auc', verbose=1)"
      ]
     },
     "execution_count": 65,
     "metadata": {},
     "output_type": "execute_result"
    }
   ],
   "source": [
    "xgb_rs_clf.fit(X_train, y_train)"
   ]
  },
  {
   "cell_type": "code",
   "execution_count": 66,
   "metadata": {},
   "outputs": [
    {
     "data": {
      "text/plain": [
       "{'classifier__subsample': 0.5,\n",
       " 'classifier__reg_lambda': 0.015625,\n",
       " 'classifier__reg_alpha': 0.001953125,\n",
       " 'classifier__n_estimators': 2001,\n",
       " 'classifier__min_child_weight': 2,\n",
       " 'classifier__max_depth': 9,\n",
       " 'classifier__learning_rate': 0.00390625}"
      ]
     },
     "execution_count": 66,
     "metadata": {},
     "output_type": "execute_result"
    }
   ],
   "source": [
    "xgb_rs_clf.best_params_"
   ]
  },
  {
   "cell_type": "code",
   "execution_count": 67,
   "metadata": {},
   "outputs": [
    {
     "data": {
      "text/plain": [
       "0.9752003362260518"
      ]
     },
     "execution_count": 67,
     "metadata": {},
     "output_type": "execute_result"
    }
   ],
   "source": [
    "xgb_rs_clf.best_score_"
   ]
  },
  {
   "cell_type": "code",
   "execution_count": 68,
   "metadata": {},
   "outputs": [],
   "source": [
    "tuning_results=pd.DataFrame(xgb_rs_clf.cv_results_)\n",
    "tuning_results.to_csv(\"tuning_results.csv\")"
   ]
  },
  {
   "cell_type": "code",
   "execution_count": 69,
   "metadata": {},
   "outputs": [],
   "source": [
    "tuning_results = pd.read_csv(\"tuning_results.csv\")"
   ]
  },
  {
   "cell_type": "code",
   "execution_count": 99,
   "metadata": {},
   "outputs": [
    {
     "data": {
      "text/plain": [
       "0.9752003362260518"
      ]
     },
     "execution_count": 99,
     "metadata": {},
     "output_type": "execute_result"
    }
   ],
   "source": [
    "#best_score_\n",
    "float(tuning_results[tuning_results.rank_test_score==1].mean_test_score)"
   ]
  },
  {
   "cell_type": "code",
   "execution_count": 101,
   "metadata": {},
   "outputs": [
    {
     "data": {
      "text/plain": [
       "{'classifier__subsample': 0.5,\n",
       " 'classifier__reg_lambda': 0.015625,\n",
       " 'classifier__reg_alpha': 0.001953125,\n",
       " 'classifier__n_estimators': 2001,\n",
       " 'classifier__min_child_weight': 2,\n",
       " 'classifier__max_depth': 9,\n",
       " 'classifier__learning_rate': 0.00390625}"
      ]
     },
     "execution_count": 101,
     "metadata": {},
     "output_type": "execute_result"
    }
   ],
   "source": [
    "#best_params_\n",
    "eval(list(dict(tuning_results[tuning_results.rank_test_score==1].params).values())[0])"
   ]
  },
  {
   "cell_type": "markdown",
   "metadata": {},
   "source": [
    "#### 4. Ewaluacja Modelu\n",
    "\n",
    "Sprawdzimy skuteczność znalezionego modelu."
   ]
  },
  {
   "cell_type": "code",
   "execution_count": 59,
   "metadata": {},
   "outputs": [],
   "source": [
    "# funkcja pomocnicza do ewaluacji modelu\n",
    "\n",
    "def statistics_classification(y, y_pred, y_pred_proba):\n",
    "    \n",
    "    fig, axes = plt.subplots(1, 2, figsize=(18, 6))\n",
    "\n",
    "    # plot roc curve\n",
    "    fpr, tpr, _ = roc_curve(y,  y_pred_proba)\n",
    "    axes[0].plot(fpr,tpr)\n",
    "    axes[0].set_title('ROC curve')\n",
    "    axes[0].set_ylabel('True Positive Rate')\n",
    "    axes[0].set_xlabel('False Positive Rate')\n",
    "    # plt.show()\n",
    "\n",
    "    # plot confusion matrix\n",
    "    cm = confusion_matrix(y, y_pred)\n",
    "    sns.heatmap(ax = axes[1], data = cm, annot=True, fmt=\".0f\", \n",
    "        xticklabels=['0 (Not an attack)', '1 (Attack)'], yticklabels=['0 (Not an attack)', '1 (Attack)'])\n",
    "    axes[1].set_xlabel('Predicted')\n",
    "    axes[1].set_ylabel('True')\n",
    "    axes[1].set_title('Confusion matrix')\n",
    "    plt.show()\n",
    "\n",
    "    # display metrics\n",
    "    accuracy = accuracy_score(y, y_pred)\n",
    "    recall = recall_score(y, y_pred)\n",
    "    f1 = f1_score(y, y_pred)\n",
    "    matthews_coef = matthews_corrcoef(y, y_pred)\n",
    "\n",
    "    print(f'{accuracy=}')\n",
    "    print(f'{recall=}')\n",
    "    print(f'{f1=}')\n",
    "    print(f'{matthews_coef=}')"
   ]
  },
  {
   "cell_type": "code",
   "execution_count": 60,
   "metadata": {},
   "outputs": [
    {
     "name": "stdout",
     "output_type": "stream",
     "text": [
      "fitted\n"
     ]
    },
    {
     "data": {
      "image/png": "[encoded data removed]",
      "text/plain": [
       "<Figure size 1296x432 with 3 Axes>"
      ]
     },
     "metadata": {
      "needs_background": "light"
     },
     "output_type": "display_data"
    },
    {
     "name": "stdout",
     "output_type": "stream",
     "text": [
      "accuracy=0.9077873193306066\n",
      "recall=0.8812499251147242\n",
      "f1=0.9285560984231589\n",
      "matthews_coef=0.8088231387278811\n"
     ]
    }
   ],
   "source": [
    "xgb_clf.fit(X_train, y_train)\n",
    "print(\"fitted\")\n",
    "y_pred = xgb_clf.predict(X_val)\n",
    "y_pred_proba = xgb_clf.predict_proba(X_val)[::, 1]\n",
    "\n",
    "statistics_classification(y_val, y_pred, y_pred_proba)"
   ]
  },
  {
   "cell_type": "code",
   "execution_count": 72,
   "metadata": {},
   "outputs": [
    {
     "data": {
      "image/png": "[encoded data removed]",
      "text/plain": [
       "<Figure size 1296x432 with 3 Axes>"
      ]
     },
     "metadata": {
      "needs_background": "light"
     },
     "output_type": "display_data"
    },
    {
     "name": "stdout",
     "output_type": "stream",
     "text": [
      "accuracy=0.90323290260555\n",
      "recall=0.8743484981009094\n",
      "f1=0.9247457627118644\n",
      "matthews_coef=0.8008740546613505\n"
     ]
    }
   ],
   "source": [
    "y_pred = xgb_rs_clf.predict(X_val)\n",
    "y_pred_proba = xgb_rs_clf.predict_proba(X_val)[::, 1]\n",
    "\n",
    "statistics_classification(y_val, y_pred, y_pred_proba)"
   ]
  },
  {
   "cell_type": "markdown",
   "metadata": {},
   "source": [
    "Nie udało się poprawić wyniku."
   ]
  }
 ],
 "metadata": {
  "interpreter": {
   "hash": "59799a58817d6880ee9f3fb693826ba7dd972c2535e602fec2c8c4252cbc627f"
  },
  "kernelspec": {
   "display_name": "Python 3",
   "language": "python",
   "name": "python3"
  },
  "language_info": {
   "codemirror_mode": {
    "name": "ipython",
    "version": 3
   },
   "file_extension": ".py",
   "mimetype": "text/x-python",
   "name": "python",
   "nbconvert_exporter": "python",
   "pygments_lexer": "ipython3",
   "version": "3.8.5"
  }
 },
 "nbformat": 4,
 "nbformat_minor": 2
}
