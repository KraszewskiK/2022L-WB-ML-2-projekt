{
 "cells": [
  {
   "cell_type": "code",
   "execution_count": 48,
   "metadata": {},
   "outputs": [],
   "source": [
    "import pandas as pd\n",
    "import numpy as np\n",
    "import matplotlib.pyplot as plt\n",
    "import seaborn as sns\n",
    "\n",
    "from sklearn.model_selection import train_test_split, RandomizedSearchCV\n",
    "from sklearn.impute import SimpleImputer\n",
    "from sklearn.preprocessing import OneHotEncoder, StandardScaler\n",
    "from sklearn.compose import ColumnTransformer\n",
    "from sklearn.pipeline import Pipeline\n",
    "from sklearn.ensemble import RandomForestClassifier, AdaBoostClassifier\n",
    "from sklearn.linear_model import LogisticRegression\n",
    "from xgboost import XGBClassifier\n",
    "from sklearn.metrics import recall_score, accuracy_score, f1_score, roc_curve, confusion_matrix, matthews_corrcoef, roc_auc_score\n",
    "from sklearn.feature_selection import mutual_info_classif\n",
    "from sklearn.feature_selection import SelectKBest\n",
    "\n",
    "plt.rcParams['figure.figsize'] = (8,6)\n",
    "plt.rcParams['font.size'] = 16\n",
    "sns.set_context('paper', font_scale=1.4)\n",
    "pd.set_option('display.max_columns', None)\n",
    "\n",
    "sns.set()\n",
    "%matplotlib inline"
   ]
  },
  {
   "cell_type": "markdown",
   "metadata": {},
   "source": [
    "#### 0. Przygotowanie Danych"
   ]
  },
  {
   "cell_type": "code",
   "execution_count": 8,
   "metadata": {},
   "outputs": [],
   "source": [
    "test_df = pd.read_csv('data/UNSW_NB15_testing-set.csv', index_col=0)\n",
    "train_df = pd.read_csv('data/UNSW_NB15_training-set.csv', index_col=0)"
   ]
  },
  {
   "cell_type": "markdown",
   "metadata": {},
   "source": [
    "Podział danych na treningowe, testowe i walidacyjne"
   ]
  },
  {
   "cell_type": "code",
   "execution_count": 9,
   "metadata": {},
   "outputs": [],
   "source": [
    "train_df, val_df = train_test_split(train_df, random_state=710, test_size=0.3)"
   ]
  },
  {
   "cell_type": "code",
   "execution_count": 10,
   "metadata": {},
   "outputs": [],
   "source": [
    "X_train = train_df.drop(columns=['label', 'attack_cat'])\n",
    "y_train = train_df['label']\n",
    "\n",
    "X_val = val_df.drop(columns=['label', 'attack_cat'])\n",
    "y_val = val_df['label']\n",
    "\n",
    "X_test = test_df.drop(columns=['label', 'attack_cat'])\n",
    "y_test = test_df['label']"
   ]
  },
  {
   "cell_type": "code",
   "execution_count": 11,
   "metadata": {},
   "outputs": [],
   "source": [
    "numeric_columns = X_train.select_dtypes('number').columns\n",
    "categorical_columns = X_train.select_dtypes('object').columns"
   ]
  },
  {
   "cell_type": "markdown",
   "metadata": {},
   "source": [
    "#### 1. Feature Engineering"
   ]
  },
  {
   "cell_type": "code",
   "execution_count": 12,
   "metadata": {},
   "outputs": [],
   "source": [
    "mi = mutual_info_classif(X_train[numeric_columns], y_train)\n",
    "mi = pd.Series(data = mi, index = numeric_columns)"
   ]
  },
  {
   "cell_type": "markdown",
   "metadata": {},
   "source": [
    "Poniżej mamy funkcję do usuwania zmiennych silnie skorelowanych w lepszy niż losowy sposób.\n",
    "\n",
    "To znaczy staramy się wpierw usuwać te najmniej znaczące."
   ]
  },
  {
   "cell_type": "code",
   "execution_count": 13,
   "metadata": {},
   "outputs": [],
   "source": [
    "def remove_correlated_features(X, y = None, threshold = 0.65, features=numeric_columns, mi = None, corr_df = None):\n",
    "    # at least one of 'y' and 'mi' must be not None\n",
    "    assert(y is not None or mi is not None)\n",
    "    if mi is None:\n",
    "        mi = pd.Series(data = mutual_info_classif(X[features], y), index=features)\n",
    "    if corr_df is None:\n",
    "        corr_df = X.corr()\n",
    "\n",
    "    # convert to an easier to use data frame\n",
    "    corr_df = corr_df.melt(ignore_index=False).\\\n",
    "        reset_index(drop=False).\\\n",
    "        rename(columns={'index':'Var 1', 'variable': 'Var 2', 'value': 'Corr'})\n",
    "\n",
    "    # we look for all pairs of (different) features that are highly correlated\n",
    "    corr_df = corr_df[\n",
    "                (np.abs(corr_df['Corr']) > threshold) & \n",
    "                (corr_df['Var 1'] != corr_df['Var 2'])\n",
    "        ].\\\n",
    "        sort_values(by='Corr', ascending=False)\n",
    "\n",
    "    removed_features = set()\n",
    "\n",
    "    # ALGORYTM 2\n",
    "    # usuwamy atrybuty od najmniej ważnych tak długo jak są pary silnie skorelowane\n",
    "\n",
    "    mi = mi.sort_values()\n",
    "    correlated_features = set(corr_df['Var 1']).union(set(corr_df['Var 2']))\n",
    "\n",
    "    i = 0 \n",
    "    while corr_df.shape[0] > 0 and i < mi.shape[0]:\n",
    "        feature = mi.index[i]\n",
    "        i += 1\n",
    "        if feature not in correlated_features:\n",
    "            continue\n",
    "        correlated_features.remove(feature)\n",
    "        removed_features.add(feature)\n",
    "        corr_df = corr_df[(corr_df['Var 1'] != feature) & (corr_df['Var 2'] != feature)]\n",
    "\n",
    "    return X.drop(list(removed_features), axis=1), list(removed_features)"
   ]
  },
  {
   "cell_type": "code",
   "execution_count": 14,
   "metadata": {},
   "outputs": [],
   "source": [
    "X_train_reduced = remove_correlated_features(X_train, mi=mi)[0]\n",
    "uncorrelated_columns = X_train_reduced.columns # to się przyda na potem"
   ]
  },
  {
   "cell_type": "markdown",
   "metadata": {},
   "source": [
    "#### 2. Przygotowanie Pipelineów\n",
    "\n",
    "Poniżej definiujemy kilka klas, które używamy przy budowaniu naszych Pipelineów."
   ]
  },
  {
   "cell_type": "code",
   "execution_count": 15,
   "metadata": {},
   "outputs": [],
   "source": [
    "class ColumnSelectorTransformer():\n",
    "    def __init__(self, columns):\n",
    "        self.columns = columns\n",
    "\n",
    "    def transform(self, X, y=None):\n",
    "        return X[self.columns]\n",
    "\n",
    "    def fit(self, X, y=None):\n",
    "        return self"
   ]
  },
  {
   "cell_type": "code",
   "execution_count": 16,
   "metadata": {},
   "outputs": [],
   "source": [
    "numeric_transformer = Pipeline(\n",
    "                        steps=[\n",
    "                            (\"scaler\", StandardScaler())\n",
    "                        ]\n",
    "                      )\n",
    "\n",
    "categorical_transformer = OneHotEncoder(drop='first')\n",
    "\n",
    "def create_column_transformer(columns_to_use):\n",
    "    numeric_columns_to_use = np.intersect1d(columns_to_use, numeric_columns)\n",
    "    categorical_columns_to_use = np.intersect1d(columns_to_use, categorical_columns)\n",
    "    \n",
    "    return ColumnTransformer(\n",
    "        transformers=[\n",
    "            (\"num\", numeric_transformer, numeric_columns_to_use),\n",
    "            (\"cat\", categorical_transformer, categorical_columns_to_use),\n",
    "        ]\n",
    "    )"
   ]
  },
  {
   "cell_type": "code",
   "execution_count": 17,
   "metadata": {},
   "outputs": [],
   "source": [
    "# columns_to_use = ['ct_dst_sport_ltm', 'sttl', 'dload', 'ct_state_ttl', 'dmean']\n",
    "columns_to_use = np.intersect1d(uncorrelated_columns, mi.sort_values(ascending=False).index[:6])"
   ]
  },
  {
   "cell_type": "markdown",
   "metadata": {},
   "source": [
    "#### 2.1 Przygotowanie Modelu XGBoost"
   ]
  },
  {
   "cell_type": "code",
   "execution_count": 18,
   "metadata": {},
   "outputs": [],
   "source": [
    "preprocessor = Pipeline(\n",
    "    steps=[\n",
    "        (\"column_selector\", ColumnSelectorTransformer(columns=columns_to_use)),\n",
    "        (\"column_transformer\", create_column_transformer(columns_to_use)),\n",
    "    ]\n",
    ")\n",
    "\n",
    "xgb_clf = Pipeline(\n",
    "    steps=[\n",
    "        (\"preprocessor\", preprocessor),\n",
    "        (\"classifier\", XGBClassifier(random_state=710, eval_metric='logloss', use_label_encoder=False))\n",
    "    ]\n",
    ")"
   ]
  },
  {
   "cell_type": "markdown",
   "metadata": {},
   "source": [
    "#### 3. Strojenie hiperparametrów"
   ]
  },
  {
   "cell_type": "markdown",
   "metadata": {},
   "source": [
    "**3.1** Dostrajanie 1"
   ]
  },
  {
   "cell_type": "code",
   "execution_count": 19,
   "metadata": {},
   "outputs": [],
   "source": [
    "xgb_parameters = {'classifier__n_estimators' : np.arange(10, 86, 25),\n",
    "                'classifier__learning_rate' : np.logspace(-6, -1, 6),\n",
    "                'classifier__subsample' : np.logspace(-1, 0, 5),\n",
    "                'classifier__max_depth' : np.arange(5, 22, 4),\n",
    "                'classifier__gamma' : np.logspace(-1, 3, 5),\n",
    "                'classifier__min_child_weight' : np.logspace(0, 2, 5),\n",
    "                # 'classifier__reg_lambda' : [2**x for x in range(-10,11)],\n",
    "                # 'classifier__reg_alpha' : [2**x for x in range(-10,11)]\n",
    "}"
   ]
  },
  {
   "cell_type": "code",
   "execution_count": 20,
   "metadata": {},
   "outputs": [],
   "source": [
    "clf = RandomizedSearchCV(xgb_clf,\n",
    "                         param_distributions=xgb_parameters,\n",
    "                         cv=3,\n",
    "                         n_jobs=-1,\n",
    "                         n_iter=500,\n",
    "                         scoring = 'roc_auc',\n",
    "                         random_state=710,\n",
    "                         verbose = 1\n",
    "                        )"
   ]
  },
  {
   "cell_type": "code",
   "execution_count": null,
   "metadata": {
    "scrolled": true
   },
   "outputs": [],
   "source": [
    "clf.fit(X_train, y_train)"
   ]
  },
  {
   "cell_type": "code",
   "execution_count": 22,
   "metadata": {},
   "outputs": [
    {
     "data": {
      "text/plain": [
       "{'classifier__subsample': 1.0,\n",
       " 'classifier__n_estimators': 60,\n",
       " 'classifier__min_child_weight': 1.0,\n",
       " 'classifier__max_depth': 13,\n",
       " 'classifier__learning_rate': 0.1,\n",
       " 'classifier__gamma': 1.0}"
      ]
     },
     "execution_count": 22,
     "metadata": {},
     "output_type": "execute_result"
    }
   ],
   "source": [
    "clf.best_params_"
   ]
  },
  {
   "cell_type": "code",
   "execution_count": 23,
   "metadata": {},
   "outputs": [
    {
     "data": {
      "text/plain": [
       "0.9856277412493658"
      ]
     },
     "execution_count": 23,
     "metadata": {},
     "output_type": "execute_result"
    }
   ],
   "source": [
    "clf.best_score_"
   ]
  },
  {
   "cell_type": "code",
   "execution_count": 24,
   "metadata": {},
   "outputs": [],
   "source": [
    "tuning_results=pd.DataFrame(clf.cv_results_)\n",
    "tuning_results.to_csv(\"tuning_results.csv\")"
   ]
  },
  {
   "cell_type": "code",
   "execution_count": 25,
   "metadata": {},
   "outputs": [],
   "source": [
    "tuning_results = pd.read_csv(\"tuning_results.csv\")"
   ]
  },
  {
   "cell_type": "markdown",
   "metadata": {},
   "source": [
    "**3.2** Dostrajanie 2\n",
    "\n",
    "Większa przestrzeń parametrów. 3 Razy większy zbiór modeli do sprawdzenia."
   ]
  },
  {
   "cell_type": "code",
   "execution_count": 34,
   "metadata": {},
   "outputs": [],
   "source": [
    "xgb_parameters = {'classifier__n_estimators' : np.arange(20, 101, 10),\n",
    "                'classifier__learning_rate' : np.logspace(-6, -1, 15),\n",
    "                # 'classifier__subsample' : np.logspace(-1, 0, 5),\n",
    "                'classifier__max_depth' : np.arange(10, 21),\n",
    "                'classifier__gamma' : np.logspace(-1, 3, 6),\n",
    "                'classifier__min_child_weight' : np.logspace(0, 2, 5),\n",
    "                'classifier__reg_lambda' : np.arange(0,3),\n",
    "                # 'classifier__reg_alpha' : [2**x for x in range(-10,11)]\n",
    "}"
   ]
  },
  {
   "cell_type": "code",
   "execution_count": 35,
   "metadata": {},
   "outputs": [],
   "source": [
    "clf2 = RandomizedSearchCV(xgb_clf,\n",
    "                         param_distributions=xgb_parameters,\n",
    "                         cv=3,\n",
    "                         n_jobs=-1,\n",
    "                         n_iter=1500,\n",
    "                         scoring = 'roc_auc',\n",
    "                         random_state=710,\n",
    "                         verbose = 3\n",
    "                        )"
   ]
  },
  {
   "cell_type": "code",
   "execution_count": 36,
   "metadata": {},
   "outputs": [
    {
     "name": "stdout",
     "output_type": "stream",
     "text": [
      "Fitting 3 folds for each of 1500 candidates, totalling 4500 fits\n"
     ]
    },
    {
     "data": {
      "text/plain": [
       "RandomizedSearchCV(cv=3,\n",
       "                   estimator=Pipeline(steps=[('preprocessor',\n",
       "                                              Pipeline(steps=[('column_selector',\n",
       "                                                               <__main__.ColumnSelectorTransformer object at 0x000001BDB35539A0>),\n",
       "                                                              ('column_transformer',\n",
       "                                                               ColumnTransformer(transformers=[('num',\n",
       "                                                                                                Pipeline(steps=[('scaler',\n",
       "                                                                                                                 StandardScaler())]),\n",
       "                                                                                                array(['ct_state_ttl', 'dbytes', 'rate', 'sbytes', 'sload', 'smean'],\n",
       "      dtype=object))...\n",
       "       7.19685673e-04, 1.63789371e-03, 3.72759372e-03, 8.48342898e-03,\n",
       "       1.93069773e-02, 4.39397056e-02, 1.00000000e-01]),\n",
       "                                        'classifier__max_depth': array([10, 11, 12, 13, 14, 15, 16, 17, 18, 19, 20]),\n",
       "                                        'classifier__min_child_weight': array([  1.        ,   3.16227766,  10.        ,  31.6227766 ,\n",
       "       100.        ]),\n",
       "                                        'classifier__n_estimators': array([ 20,  30,  40,  50,  60,  70,  80,  90, 100]),\n",
       "                                        'classifier__reg_lambda': array([0, 1, 2])},\n",
       "                   random_state=710, scoring='roc_auc', verbose=3)"
      ]
     },
     "execution_count": 36,
     "metadata": {},
     "output_type": "execute_result"
    }
   ],
   "source": [
    "clf2.fit(X_train, y_train)"
   ]
  },
  {
   "cell_type": "code",
   "execution_count": 37,
   "metadata": {},
   "outputs": [
    {
     "data": {
      "text/plain": [
       "{'classifier__reg_lambda': 0,\n",
       " 'classifier__n_estimators': 80,\n",
       " 'classifier__min_child_weight': 1.0,\n",
       " 'classifier__max_depth': 12,\n",
       " 'classifier__learning_rate': 0.1,\n",
       " 'classifier__gamma': 0.6309573444801934}"
      ]
     },
     "execution_count": 37,
     "metadata": {},
     "output_type": "execute_result"
    }
   ],
   "source": [
    "clf2.best_params_"
   ]
  },
  {
   "cell_type": "code",
   "execution_count": 38,
   "metadata": {},
   "outputs": [
    {
     "data": {
      "text/plain": [
       "0.9859032408271902"
      ]
     },
     "execution_count": 38,
     "metadata": {},
     "output_type": "execute_result"
    }
   ],
   "source": [
    "clf2.best_score_"
   ]
  },
  {
   "cell_type": "markdown",
   "metadata": {},
   "source": [
    "Niestety prawie 2h przeszukiwania dały pomijalnie mały wzrost metryki"
   ]
  },
  {
   "cell_type": "markdown",
   "metadata": {},
   "source": [
    "#### 4. Ewaluacja Modelu\n",
    "\n",
    "Sprawdzimy skuteczność znalezionego modelu."
   ]
  },
  {
   "cell_type": "code",
   "execution_count": 46,
   "metadata": {},
   "outputs": [],
   "source": [
    "# funkcja pomocnicza do ewaluacji modelu\n",
    "\n",
    "def statistics_classification(y, y_pred, y_pred_proba):\n",
    "    \n",
    "    fig, axes = plt.subplots(1, 2, figsize=(18, 6))\n",
    "\n",
    "    # plot roc curve\n",
    "    fpr, tpr, _ = roc_curve(y,  y_pred_proba)\n",
    "    axes[0].plot(fpr,tpr)\n",
    "    axes[0].set_title('ROC curve')\n",
    "    axes[0].set_ylabel('True Positive Rate')\n",
    "    axes[0].set_xlabel('False Positive Rate')\n",
    "    # plt.show()\n",
    "\n",
    "    # plot confusion matrix\n",
    "    cm = confusion_matrix(y, y_pred)\n",
    "    sns.heatmap(ax = axes[1], data = cm, annot=True, fmt=\".0f\", \n",
    "        xticklabels=['0 (Not an attack)', '1 (Attack)'], yticklabels=['0 (Not an attack)', '1 (Attack)'])\n",
    "    axes[1].set_xlabel('Predicted')\n",
    "    axes[1].set_ylabel('True')\n",
    "    axes[1].set_title('Confusion matrix')\n",
    "    plt.show()\n",
    "\n",
    "    # display metrics\n",
    "    auc = roc_auc_score(y, y_pred_proba)\n",
    "    accuracy = accuracy_score(y, y_pred)\n",
    "    recall = recall_score(y, y_pred)\n",
    "    f1 = f1_score(y, y_pred)\n",
    "    matthews_coef = matthews_corrcoef(y, y_pred)\n",
    "\n",
    "    print(f'{auc=}\\n')\n",
    "    print(f'{accuracy=}')\n",
    "    print(f'{recall=}')\n",
    "    print(f'{f1=}')\n",
    "    print(f'{matthews_coef=}')"
   ]
  },
  {
   "cell_type": "code",
   "execution_count": 58,
   "metadata": {},
   "outputs": [],
   "source": [
    "xgb_clf_tuned = Pipeline(\n",
    "    steps=[\n",
    "        (\"preprocessor\", preprocessor),\n",
    "        (\"classifier\", XGBClassifier(random_state=710, eval_metric='logloss', use_label_encoder=False,\n",
    "            reg_lambda = 0,\n",
    "            n_estimators=80,\n",
    "            min_child_weight=1.0,\n",
    "            max_depth = 12,\n",
    "            learning_rate = 0.1,\n",
    "            gamma = 0.6309573444801934))\n",
    "    ]\n",
    ")"
   ]
  },
  {
   "cell_type": "code",
   "execution_count": 60,
   "metadata": {},
   "outputs": [
    {
     "name": "stdout",
     "output_type": "stream",
     "text": [
      "fitted\n"
     ]
    },
    {
     "data": {
      "image/png": "[encoded data removed]",
      "text/plain": [
       "<Figure size 1296x432 with 3 Axes>"
      ]
     },
     "metadata": {
      "needs_background": "light"
     },
     "output_type": "display_data"
    },
    {
     "name": "stdout",
     "output_type": "stream",
     "text": [
      "auc=0.9859961622065904\n",
      "\n",
      "accuracy=0.9353846153846154\n",
      "recall=0.9199501977442508\n",
      "f1=0.9402649898944532\n",
      "matthews_coef=0.8709822550207321\n"
     ]
    }
   ],
   "source": [
    "xgb_clf_tuned.fit(X_train, y_train)\n",
    "print(\"fitted\")\n",
    "y_pred = xgb_clf_tuned.predict(X_val)\n",
    "y_pred_proba = xgb_clf_tuned.predict_proba(X_val)[::, 1]\n",
    "\n",
    "statistics_classification(y_val, y_pred, y_pred_proba)"
   ]
  },
  {
   "cell_type": "markdown",
   "metadata": {},
   "source": [
    "#### Wnioski\n",
    "\n",
    "Tuning parametrów nieco poprawił wcześniej uzyskiwane wyniki. Udało nam się osiągnąć metrykę AUC niemal równą jeden co było dla nas głównym celem.\n",
    "\n",
    "Model cały czas ma miejsce na poprawki jednak biorąc pod uwagę bardzo długi czas uczenia modeli jesteśmy zadowoleni z osiągnięych rezultatów."
   ]
  }
 ],
 "metadata": {
  "interpreter": {
   "hash": "59799a58817d6880ee9f3fb693826ba7dd972c2535e602fec2c8c4252cbc627f"
  },
  "kernelspec": {
   "display_name": "Python 3",
   "language": "python",
   "name": "python3"
  },
  "language_info": {
   "codemirror_mode": {
    "name": "ipython",
    "version": 3
   },
   "file_extension": ".py",
   "mimetype": "text/x-python",
   "name": "python",
   "nbconvert_exporter": "python",
   "pygments_lexer": "ipython3",
   "version": "3.8.8"
  }
 },
 "nbformat": 4,
 "nbformat_minor": 2
}
